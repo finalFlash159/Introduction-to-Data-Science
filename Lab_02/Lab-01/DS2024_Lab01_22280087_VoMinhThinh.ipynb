{
 "cells": [
  {
   "cell_type": "markdown",
   "id": "85c2086d",
   "metadata": {},
   "source": [
    "# Introduction to Data Science - 22KDL\n",
    "## Lab01: Python fundamentals:\n"
   ]
  },
  {
   "cell_type": "markdown",
   "id": "a6e91331",
   "metadata": {},
   "source": [
    "## Preliminaries"
   ]
  },
  {
   "cell_type": "markdown",
   "id": "3886816e",
   "metadata": {},
   "source": [
    "# Exercises"
   ]
  },
  {
   "cell_type": "markdown",
   "id": "91636448",
   "metadata": {},
   "source": [
    "## Variable Exercises:\n",
    "### Q1:"
   ]
  },
  {
   "cell_type": "code",
   "execution_count": 3,
   "id": "3fcfd149",
   "metadata": {},
   "outputs": [
    {
     "name": "stdout",
     "output_type": "stream",
     "text": [
      "Please enter your name: Thinh\n",
      "Please enter your age: 329\n",
      "Invalid! Please enter your age again: 19\n",
      "Hello Thinh you are, 19 years old!\n"
     ]
    }
   ],
   "source": [
    "name = input(\"Please enter your name: \")\n",
    "age  = int(input(\"Please enter your age: \"))\n",
    "while(age<=0 or age >130): \n",
    "    age = int(input(\"Invalid! Please enter your age again: \"))\n",
    "print(\"Hello\", name, \"you are,\", age, \"years old!\")"
   ]
  },
  {
   "cell_type": "markdown",
   "id": "53e802ba",
   "metadata": {},
   "source": [
    "### Q2:"
   ]
  },
  {
   "cell_type": "code",
   "execution_count": 4,
   "id": "7066c1d8",
   "metadata": {},
   "outputs": [
    {
     "name": "stdout",
     "output_type": "stream",
     "text": [
      "Enter a number: 99\n",
      "99 is odd\n"
     ]
    }
   ],
   "source": [
    "number = int(input(\"Enter a number: \"))\n",
    "type =\"\"\n",
    "if(number % 2 != 0): type = \"odd\"\n",
    "if(number % 2 == 0): type = \"even\"\n",
    "print(number, \"is\", type)"
   ]
  },
  {
   "cell_type": "markdown",
   "id": "49482d7d",
   "metadata": {},
   "source": [
    "## Loop Exercises:"
   ]
  },
  {
   "cell_type": "markdown",
   "id": "14e9d8e8",
   "metadata": {},
   "source": [
    "### Q3:"
   ]
  },
  {
   "cell_type": "code",
   "execution_count": 5,
   "id": "e916074d",
   "metadata": {},
   "outputs": [
    {
     "name": "stdout",
     "output_type": "stream",
     "text": [
      "0 1 2 3 4 5 6 7 8 9 "
     ]
    }
   ],
   "source": [
    "for i in range(10):\n",
    "    print(i, end = ' ')"
   ]
  },
  {
   "cell_type": "markdown",
   "id": "c2857658",
   "metadata": {},
   "source": [
    "### Q4:"
   ]
  },
  {
   "cell_type": "code",
   "execution_count": 6,
   "id": "e948a890",
   "metadata": {
    "scrolled": true
   },
   "outputs": [
    {
     "name": "stdout",
     "output_type": "stream",
     "text": [
      "Enter a number: 99\n",
      "2 4 6 8 10 12 14 16 18 20 22 24 26 28 30 32 34 36 38 40 42 44 46 48 50 52 54 56 58 60 62 64 66 68 70 72 74 76 78 80 82 84 86 88 90 92 94 96 98 "
     ]
    }
   ],
   "source": [
    "number = int(input(\"Enter a number: \"))\n",
    "n = 1\n",
    "while(n<number):\n",
    "  if(n%2 == 0): print(n, end = ' ')\n",
    "  n = n+1"
   ]
  },
  {
   "cell_type": "markdown",
   "id": "c0a5fe15",
   "metadata": {},
   "source": [
    "\n",
    "## List Exercises:"
   ]
  },
  {
   "cell_type": "markdown",
   "id": "4085808f",
   "metadata": {},
   "source": [
    "### Q5:\n"
   ]
  },
  {
   "cell_type": "code",
   "execution_count": 7,
   "id": "2317f1e4",
   "metadata": {},
   "outputs": [
    {
     "name": "stdout",
     "output_type": "stream",
     "text": [
      "Last five elements: 8 9 -5 11 20 "
     ]
    }
   ],
   "source": [
    "numbers = [5, 1, 7, 7, 8, 10, -2, 6, 8, 9, -5, 11, 20]\n",
    "print(\"Last five elements:\", end = ' ')\n",
    "for i in numbers[-5:]:\n",
    "  print(i, end =' ')"
   ]
  },
  {
   "cell_type": "markdown",
   "id": "f8666542",
   "metadata": {},
   "source": [
    "### Q6:"
   ]
  },
  {
   "cell_type": "code",
   "execution_count": 8,
   "id": "1b4587ea",
   "metadata": {},
   "outputs": [
    {
     "name": "stdout",
     "output_type": "stream",
     "text": [
      "List: [1, 2, 3, 4, 5, 6, 7, 8, 9, 10]\n",
      "New List: [2, 4, 6, 8, 10]\n"
     ]
    }
   ],
   "source": [
    "print(\"List:\", end=' ')\n",
    "numbers = [1, 2, 3, 4, 5, 6, 7, 8, 9 ,10]\n",
    "#numbers = range(0, 11)\n",
    "print(numbers)\n",
    "even_numbers = [x for x in numbers if x % 2 == 0]\n",
    "print(\"New List:\", end=' ')\n",
    "print(even_numbers)"
   ]
  },
  {
   "cell_type": "markdown",
   "id": "3a889ffa",
   "metadata": {},
   "source": [
    "## Dictionary Exercises:"
   ]
  },
  {
   "cell_type": "markdown",
   "id": "3927e26c",
   "metadata": {},
   "source": [
    "### Q7:"
   ]
  },
  {
   "cell_type": "code",
   "execution_count": 9,
   "id": "4ca27f05",
   "metadata": {},
   "outputs": [
    {
     "name": "stdout",
     "output_type": "stream",
     "text": [
      "{'John': 19, 'Tom': 15, 'James': 30, 'Danny': 18, 'Lisa': 19, 'Rose': 17, 'Jisoo': 16, 'Jennie': 20}\n",
      "{'John': 19, 'James': 30, 'Lisa': 19, 'Jennie': 20}\n"
     ]
    }
   ],
   "source": [
    "name_to_age = {'John': 19,\n",
    "                'Tom': 15,\n",
    "                'James': 30,\n",
    "                'Danny': 18,\n",
    "                'Lisa': 19,\n",
    "                'Rose': 17,\n",
    "                'Jisoo': 16,\n",
    "                'Jennie': 20}\n",
    "print(name_to_age)\n",
    "adults = {}\n",
    "for name, age in name_to_age.items():\n",
    "  if age > 18:\n",
    "    adults[name] = age\n",
    "\n",
    "print(adults)"
   ]
  },
  {
   "cell_type": "markdown",
   "id": "13c90b68",
   "metadata": {},
   "source": [
    "## Function Exercises:"
   ]
  },
  {
   "cell_type": "markdown",
   "id": "247b63bd",
   "metadata": {},
   "source": [
    "### Q8:"
   ]
  },
  {
   "cell_type": "code",
   "execution_count": 10,
   "id": "690a87f9",
   "metadata": {},
   "outputs": [
    {
     "name": "stdout",
     "output_type": "stream",
     "text": [
      "Sum = 9\n"
     ]
    }
   ],
   "source": [
    "def calc_sum(nums):\n",
    "    sum = 0\n",
    "    for num in nums:\n",
    "      sum += num\n",
    "    return sum\n",
    "\n",
    "nums = [5, 3, -2, 4, -1]\n",
    "print(\"Sum =\", end = ' ')\n",
    "print(calc_sum(nums))"
   ]
  },
  {
   "cell_type": "markdown",
   "id": "9f36d36f",
   "metadata": {},
   "source": [
    "### Q9:"
   ]
  },
  {
   "cell_type": "code",
   "execution_count": 11,
   "id": "ff5bd224",
   "metadata": {},
   "outputs": [
    {
     "name": "stdout",
     "output_type": "stream",
     "text": [
      "{'a': 2, 'b': 1, 'c': 3, 'd': 1, 'e': 3, 'f': 2}\n"
     ]
    }
   ],
   "source": [
    "def count_char_freq(input_string):\n",
    "    char_freq = {}\n",
    "    for char in input_string:\n",
    "      if char in char_freq:\n",
    "        char_freq[char] += 1\n",
    "      else:\n",
    "        char_freq[char] = 1\n",
    "    return char_freq\n",
    "\n",
    "string = \"abcaccdefeef\"\n",
    "char_freq = count_char_freq(string)\n",
    "print(char_freq)"
   ]
  },
  {
   "cell_type": "markdown",
   "id": "0ed64c35",
   "metadata": {},
   "source": [
    "## Pandas Exercises:"
   ]
  },
  {
   "cell_type": "markdown",
   "id": "ccbb713c",
   "metadata": {},
   "source": [
    "### Q10:"
   ]
  },
  {
   "cell_type": "markdown",
   "id": "f294b5f6",
   "metadata": {},
   "source": [
    "#### Import libraries"
   ]
  },
  {
   "cell_type": "code",
   "execution_count": 12,
   "id": "0cf3d035",
   "metadata": {},
   "outputs": [],
   "source": [
    "import pandas as pd"
   ]
  },
  {
   "cell_type": "markdown",
   "id": "b7d024fd",
   "metadata": {},
   "source": [
    "#### Import dataset"
   ]
  },
  {
   "cell_type": "code",
   "execution_count": 13,
   "id": "4a75a90a",
   "metadata": {},
   "outputs": [],
   "source": [
    "data_path = 'https://raw.githubusercontent.com/thinh4526/kaggle_files/main/netflix_titles.csv'\n",
    "\n",
    "data = pd.read_csv(data_path) "
   ]
  },
  {
   "cell_type": "code",
   "execution_count": 14,
   "id": "e585de29",
   "metadata": {},
   "outputs": [
    {
     "data": {
      "text/html": [
       "<div>\n",
       "<style scoped>\n",
       "    .dataframe tbody tr th:only-of-type {\n",
       "        vertical-align: middle;\n",
       "    }\n",
       "\n",
       "    .dataframe tbody tr th {\n",
       "        vertical-align: top;\n",
       "    }\n",
       "\n",
       "    .dataframe thead th {\n",
       "        text-align: right;\n",
       "    }\n",
       "</style>\n",
       "<table border=\"1\" class=\"dataframe\">\n",
       "  <thead>\n",
       "    <tr style=\"text-align: right;\">\n",
       "      <th></th>\n",
       "      <th>show_id</th>\n",
       "      <th>type</th>\n",
       "      <th>title</th>\n",
       "      <th>director</th>\n",
       "      <th>cast</th>\n",
       "      <th>country</th>\n",
       "      <th>date_added</th>\n",
       "      <th>release_year</th>\n",
       "      <th>rating</th>\n",
       "      <th>duration</th>\n",
       "      <th>listed_in</th>\n",
       "      <th>description</th>\n",
       "    </tr>\n",
       "  </thead>\n",
       "  <tbody>\n",
       "    <tr>\n",
       "      <th>0</th>\n",
       "      <td>s1</td>\n",
       "      <td>Movie</td>\n",
       "      <td>Dick Johnson Is Dead</td>\n",
       "      <td>Kirsten Johnson</td>\n",
       "      <td>NaN</td>\n",
       "      <td>United States</td>\n",
       "      <td>September 25, 2021</td>\n",
       "      <td>2020</td>\n",
       "      <td>PG-13</td>\n",
       "      <td>90 min</td>\n",
       "      <td>Documentaries</td>\n",
       "      <td>As her father nears the end of his life, filmm...</td>\n",
       "    </tr>\n",
       "    <tr>\n",
       "      <th>1</th>\n",
       "      <td>s2</td>\n",
       "      <td>TV Show</td>\n",
       "      <td>Blood &amp; Water</td>\n",
       "      <td>NaN</td>\n",
       "      <td>Ama Qamata, Khosi Ngema, Gail Mabalane, Thaban...</td>\n",
       "      <td>South Africa</td>\n",
       "      <td>September 24, 2021</td>\n",
       "      <td>2021</td>\n",
       "      <td>TV-MA</td>\n",
       "      <td>2 Seasons</td>\n",
       "      <td>International TV Shows, TV Dramas, TV Mysteries</td>\n",
       "      <td>After crossing paths at a party, a Cape Town t...</td>\n",
       "    </tr>\n",
       "    <tr>\n",
       "      <th>2</th>\n",
       "      <td>s3</td>\n",
       "      <td>TV Show</td>\n",
       "      <td>Ganglands</td>\n",
       "      <td>Julien Leclercq</td>\n",
       "      <td>Sami Bouajila, Tracy Gotoas, Samuel Jouy, Nabi...</td>\n",
       "      <td>NaN</td>\n",
       "      <td>September 24, 2021</td>\n",
       "      <td>2021</td>\n",
       "      <td>TV-MA</td>\n",
       "      <td>1 Season</td>\n",
       "      <td>Crime TV Shows, International TV Shows, TV Act...</td>\n",
       "      <td>To protect his family from a powerful drug lor...</td>\n",
       "    </tr>\n",
       "    <tr>\n",
       "      <th>3</th>\n",
       "      <td>s4</td>\n",
       "      <td>TV Show</td>\n",
       "      <td>Jailbirds New Orleans</td>\n",
       "      <td>NaN</td>\n",
       "      <td>NaN</td>\n",
       "      <td>NaN</td>\n",
       "      <td>September 24, 2021</td>\n",
       "      <td>2021</td>\n",
       "      <td>TV-MA</td>\n",
       "      <td>1 Season</td>\n",
       "      <td>Docuseries, Reality TV</td>\n",
       "      <td>Feuds, flirtations and toilet talk go down amo...</td>\n",
       "    </tr>\n",
       "    <tr>\n",
       "      <th>4</th>\n",
       "      <td>s5</td>\n",
       "      <td>TV Show</td>\n",
       "      <td>Kota Factory</td>\n",
       "      <td>NaN</td>\n",
       "      <td>Mayur More, Jitendra Kumar, Ranjan Raj, Alam K...</td>\n",
       "      <td>India</td>\n",
       "      <td>September 24, 2021</td>\n",
       "      <td>2021</td>\n",
       "      <td>TV-MA</td>\n",
       "      <td>2 Seasons</td>\n",
       "      <td>International TV Shows, Romantic TV Shows, TV ...</td>\n",
       "      <td>In a city of coaching centers known to train I...</td>\n",
       "    </tr>\n",
       "    <tr>\n",
       "      <th>5</th>\n",
       "      <td>s6</td>\n",
       "      <td>TV Show</td>\n",
       "      <td>Midnight Mass</td>\n",
       "      <td>Mike Flanagan</td>\n",
       "      <td>Kate Siegel, Zach Gilford, Hamish Linklater, H...</td>\n",
       "      <td>NaN</td>\n",
       "      <td>September 24, 2021</td>\n",
       "      <td>2021</td>\n",
       "      <td>TV-MA</td>\n",
       "      <td>1 Season</td>\n",
       "      <td>TV Dramas, TV Horror, TV Mysteries</td>\n",
       "      <td>The arrival of a charismatic young priest brin...</td>\n",
       "    </tr>\n",
       "    <tr>\n",
       "      <th>6</th>\n",
       "      <td>s7</td>\n",
       "      <td>Movie</td>\n",
       "      <td>My Little Pony: A New Generation</td>\n",
       "      <td>Robert Cullen, José Luis Ucha</td>\n",
       "      <td>Vanessa Hudgens, Kimiko Glenn, James Marsden, ...</td>\n",
       "      <td>NaN</td>\n",
       "      <td>September 24, 2021</td>\n",
       "      <td>2021</td>\n",
       "      <td>PG</td>\n",
       "      <td>91 min</td>\n",
       "      <td>Children &amp; Family Movies</td>\n",
       "      <td>Equestria's divided. But a bright-eyed hero be...</td>\n",
       "    </tr>\n",
       "    <tr>\n",
       "      <th>7</th>\n",
       "      <td>s8</td>\n",
       "      <td>Movie</td>\n",
       "      <td>Sankofa</td>\n",
       "      <td>Haile Gerima</td>\n",
       "      <td>Kofi Ghanaba, Oyafunmike Ogunlano, Alexandra D...</td>\n",
       "      <td>United States, Ghana, Burkina Faso, United Kin...</td>\n",
       "      <td>September 24, 2021</td>\n",
       "      <td>1993</td>\n",
       "      <td>TV-MA</td>\n",
       "      <td>125 min</td>\n",
       "      <td>Dramas, Independent Movies, International Movies</td>\n",
       "      <td>On a photo shoot in Ghana, an American model s...</td>\n",
       "    </tr>\n",
       "    <tr>\n",
       "      <th>8</th>\n",
       "      <td>s9</td>\n",
       "      <td>TV Show</td>\n",
       "      <td>The Great British Baking Show</td>\n",
       "      <td>Andy Devonshire</td>\n",
       "      <td>Mel Giedroyc, Sue Perkins, Mary Berry, Paul Ho...</td>\n",
       "      <td>United Kingdom</td>\n",
       "      <td>September 24, 2021</td>\n",
       "      <td>2021</td>\n",
       "      <td>TV-14</td>\n",
       "      <td>9 Seasons</td>\n",
       "      <td>British TV Shows, Reality TV</td>\n",
       "      <td>A talented batch of amateur bakers face off in...</td>\n",
       "    </tr>\n",
       "    <tr>\n",
       "      <th>9</th>\n",
       "      <td>s10</td>\n",
       "      <td>Movie</td>\n",
       "      <td>The Starling</td>\n",
       "      <td>Theodore Melfi</td>\n",
       "      <td>Melissa McCarthy, Chris O'Dowd, Kevin Kline, T...</td>\n",
       "      <td>United States</td>\n",
       "      <td>September 24, 2021</td>\n",
       "      <td>2021</td>\n",
       "      <td>PG-13</td>\n",
       "      <td>104 min</td>\n",
       "      <td>Comedies, Dramas</td>\n",
       "      <td>A woman adjusting to life after a loss contend...</td>\n",
       "    </tr>\n",
       "  </tbody>\n",
       "</table>\n",
       "</div>"
      ],
      "text/plain": [
       "  show_id     type                             title  \\\n",
       "0      s1    Movie              Dick Johnson Is Dead   \n",
       "1      s2  TV Show                     Blood & Water   \n",
       "2      s3  TV Show                         Ganglands   \n",
       "3      s4  TV Show             Jailbirds New Orleans   \n",
       "4      s5  TV Show                      Kota Factory   \n",
       "5      s6  TV Show                     Midnight Mass   \n",
       "6      s7    Movie  My Little Pony: A New Generation   \n",
       "7      s8    Movie                           Sankofa   \n",
       "8      s9  TV Show     The Great British Baking Show   \n",
       "9     s10    Movie                      The Starling   \n",
       "\n",
       "                        director  \\\n",
       "0                Kirsten Johnson   \n",
       "1                            NaN   \n",
       "2                Julien Leclercq   \n",
       "3                            NaN   \n",
       "4                            NaN   \n",
       "5                  Mike Flanagan   \n",
       "6  Robert Cullen, José Luis Ucha   \n",
       "7                   Haile Gerima   \n",
       "8                Andy Devonshire   \n",
       "9                 Theodore Melfi   \n",
       "\n",
       "                                                cast  \\\n",
       "0                                                NaN   \n",
       "1  Ama Qamata, Khosi Ngema, Gail Mabalane, Thaban...   \n",
       "2  Sami Bouajila, Tracy Gotoas, Samuel Jouy, Nabi...   \n",
       "3                                                NaN   \n",
       "4  Mayur More, Jitendra Kumar, Ranjan Raj, Alam K...   \n",
       "5  Kate Siegel, Zach Gilford, Hamish Linklater, H...   \n",
       "6  Vanessa Hudgens, Kimiko Glenn, James Marsden, ...   \n",
       "7  Kofi Ghanaba, Oyafunmike Ogunlano, Alexandra D...   \n",
       "8  Mel Giedroyc, Sue Perkins, Mary Berry, Paul Ho...   \n",
       "9  Melissa McCarthy, Chris O'Dowd, Kevin Kline, T...   \n",
       "\n",
       "                                             country          date_added  \\\n",
       "0                                      United States  September 25, 2021   \n",
       "1                                       South Africa  September 24, 2021   \n",
       "2                                                NaN  September 24, 2021   \n",
       "3                                                NaN  September 24, 2021   \n",
       "4                                              India  September 24, 2021   \n",
       "5                                                NaN  September 24, 2021   \n",
       "6                                                NaN  September 24, 2021   \n",
       "7  United States, Ghana, Burkina Faso, United Kin...  September 24, 2021   \n",
       "8                                     United Kingdom  September 24, 2021   \n",
       "9                                      United States  September 24, 2021   \n",
       "\n",
       "   release_year rating   duration  \\\n",
       "0          2020  PG-13     90 min   \n",
       "1          2021  TV-MA  2 Seasons   \n",
       "2          2021  TV-MA   1 Season   \n",
       "3          2021  TV-MA   1 Season   \n",
       "4          2021  TV-MA  2 Seasons   \n",
       "5          2021  TV-MA   1 Season   \n",
       "6          2021     PG     91 min   \n",
       "7          1993  TV-MA    125 min   \n",
       "8          2021  TV-14  9 Seasons   \n",
       "9          2021  PG-13    104 min   \n",
       "\n",
       "                                           listed_in  \\\n",
       "0                                      Documentaries   \n",
       "1    International TV Shows, TV Dramas, TV Mysteries   \n",
       "2  Crime TV Shows, International TV Shows, TV Act...   \n",
       "3                             Docuseries, Reality TV   \n",
       "4  International TV Shows, Romantic TV Shows, TV ...   \n",
       "5                 TV Dramas, TV Horror, TV Mysteries   \n",
       "6                           Children & Family Movies   \n",
       "7   Dramas, Independent Movies, International Movies   \n",
       "8                       British TV Shows, Reality TV   \n",
       "9                                   Comedies, Dramas   \n",
       "\n",
       "                                         description  \n",
       "0  As her father nears the end of his life, filmm...  \n",
       "1  After crossing paths at a party, a Cape Town t...  \n",
       "2  To protect his family from a powerful drug lor...  \n",
       "3  Feuds, flirtations and toilet talk go down amo...  \n",
       "4  In a city of coaching centers known to train I...  \n",
       "5  The arrival of a charismatic young priest brin...  \n",
       "6  Equestria's divided. But a bright-eyed hero be...  \n",
       "7  On a photo shoot in Ghana, an American model s...  \n",
       "8  A talented batch of amateur bakers face off in...  \n",
       "9  A woman adjusting to life after a loss contend...  "
      ]
     },
     "execution_count": 14,
     "metadata": {},
     "output_type": "execute_result"
    }
   ],
   "source": [
    "data.head(10)"
   ]
  },
  {
   "cell_type": "markdown",
   "id": "54dea1b6",
   "metadata": {},
   "source": [
    "### Q11:"
   ]
  },
  {
   "cell_type": "code",
   "execution_count": 15,
   "id": "79651cfd",
   "metadata": {},
   "outputs": [],
   "source": [
    "movies = data[(data['type']==\"Movie\") &(data['release_year'] >= 2016) & (data['release_year'] <= 2020)]"
   ]
  },
  {
   "cell_type": "code",
   "execution_count": 16,
   "id": "f0ab0da3",
   "metadata": {},
   "outputs": [
    {
     "data": {
      "text/html": [
       "<div>\n",
       "<style scoped>\n",
       "    .dataframe tbody tr th:only-of-type {\n",
       "        vertical-align: middle;\n",
       "    }\n",
       "\n",
       "    .dataframe tbody tr th {\n",
       "        vertical-align: top;\n",
       "    }\n",
       "\n",
       "    .dataframe thead th {\n",
       "        text-align: right;\n",
       "    }\n",
       "</style>\n",
       "<table border=\"1\" class=\"dataframe\">\n",
       "  <thead>\n",
       "    <tr style=\"text-align: right;\">\n",
       "      <th></th>\n",
       "      <th>show_id</th>\n",
       "      <th>type</th>\n",
       "      <th>title</th>\n",
       "      <th>director</th>\n",
       "      <th>cast</th>\n",
       "      <th>country</th>\n",
       "      <th>date_added</th>\n",
       "      <th>release_year</th>\n",
       "      <th>rating</th>\n",
       "      <th>duration</th>\n",
       "      <th>listed_in</th>\n",
       "      <th>description</th>\n",
       "    </tr>\n",
       "  </thead>\n",
       "  <tbody>\n",
       "    <tr>\n",
       "      <th>0</th>\n",
       "      <td>s1</td>\n",
       "      <td>Movie</td>\n",
       "      <td>Dick Johnson Is Dead</td>\n",
       "      <td>Kirsten Johnson</td>\n",
       "      <td>NaN</td>\n",
       "      <td>United States</td>\n",
       "      <td>September 25, 2021</td>\n",
       "      <td>2020</td>\n",
       "      <td>PG-13</td>\n",
       "      <td>90 min</td>\n",
       "      <td>Documentaries</td>\n",
       "      <td>As her father nears the end of his life, filmm...</td>\n",
       "    </tr>\n",
       "    <tr>\n",
       "      <th>16</th>\n",
       "      <td>s17</td>\n",
       "      <td>Movie</td>\n",
       "      <td>Europe's Most Dangerous Man: Otto Skorzeny in ...</td>\n",
       "      <td>Pedro de Echave García, Pablo Azorín Williams</td>\n",
       "      <td>NaN</td>\n",
       "      <td>NaN</td>\n",
       "      <td>September 22, 2021</td>\n",
       "      <td>2020</td>\n",
       "      <td>TV-MA</td>\n",
       "      <td>67 min</td>\n",
       "      <td>Documentaries, International Movies</td>\n",
       "      <td>Declassified documents reveal the post-WWII li...</td>\n",
       "    </tr>\n",
       "    <tr>\n",
       "      <th>38</th>\n",
       "      <td>s39</td>\n",
       "      <td>Movie</td>\n",
       "      <td>Birth of the Dragon</td>\n",
       "      <td>George Nolfi</td>\n",
       "      <td>Billy Magnussen, Ron Yuan, Qu Jingjing, Terry ...</td>\n",
       "      <td>China, Canada, United States</td>\n",
       "      <td>September 16, 2021</td>\n",
       "      <td>2017</td>\n",
       "      <td>PG-13</td>\n",
       "      <td>96 min</td>\n",
       "      <td>Action &amp; Adventure, Dramas</td>\n",
       "      <td>A young Bruce Lee angers kung fu traditionalis...</td>\n",
       "    </tr>\n",
       "    <tr>\n",
       "      <th>73</th>\n",
       "      <td>s74</td>\n",
       "      <td>Movie</td>\n",
       "      <td>King of Boys</td>\n",
       "      <td>Kemi Adetiba</td>\n",
       "      <td>Sola Sobowale, Adesua Etomi, Remilekun \"Remini...</td>\n",
       "      <td>Nigeria</td>\n",
       "      <td>September 14, 2021</td>\n",
       "      <td>2018</td>\n",
       "      <td>TV-MA</td>\n",
       "      <td>182 min</td>\n",
       "      <td>Dramas, International Movies</td>\n",
       "      <td>When a powerful businesswoman’s political ambi...</td>\n",
       "    </tr>\n",
       "    <tr>\n",
       "      <th>78</th>\n",
       "      <td>s79</td>\n",
       "      <td>Movie</td>\n",
       "      <td>Tughlaq Durbar</td>\n",
       "      <td>Delhiprasad Deenadayalan</td>\n",
       "      <td>Vijay Sethupathi, Parthiban, Raashi Khanna</td>\n",
       "      <td>NaN</td>\n",
       "      <td>September 11, 2021</td>\n",
       "      <td>2020</td>\n",
       "      <td>TV-14</td>\n",
       "      <td>145 min</td>\n",
       "      <td>Comedies, Dramas, International Movies</td>\n",
       "      <td>A budding politician has devious plans to rise...</td>\n",
       "    </tr>\n",
       "    <tr>\n",
       "      <th>...</th>\n",
       "      <td>...</td>\n",
       "      <td>...</td>\n",
       "      <td>...</td>\n",
       "      <td>...</td>\n",
       "      <td>...</td>\n",
       "      <td>...</td>\n",
       "      <td>...</td>\n",
       "      <td>...</td>\n",
       "      <td>...</td>\n",
       "      <td>...</td>\n",
       "      <td>...</td>\n",
       "      <td>...</td>\n",
       "    </tr>\n",
       "    <tr>\n",
       "      <th>8781</th>\n",
       "      <td>s8782</td>\n",
       "      <td>Movie</td>\n",
       "      <td>Yo-Kai Watch: The Movie</td>\n",
       "      <td>Mark Risley</td>\n",
       "      <td>Johnny Yong Bosch, Joey D'Auria, Alicyn Packar...</td>\n",
       "      <td>Japan, United States</td>\n",
       "      <td>December 1, 2016</td>\n",
       "      <td>2016</td>\n",
       "      <td>TV-Y7</td>\n",
       "      <td>96 min</td>\n",
       "      <td>Anime Features, Children &amp; Family Movies</td>\n",
       "      <td>Nate's special Yo-Kai Watch is missing. He tra...</td>\n",
       "    </tr>\n",
       "    <tr>\n",
       "      <th>8782</th>\n",
       "      <td>s8783</td>\n",
       "      <td>Movie</td>\n",
       "      <td>Yoga Hosers</td>\n",
       "      <td>Kevin Smith</td>\n",
       "      <td>Harley Quinn Smith, Lily-Rose Depp, Johnny Dep...</td>\n",
       "      <td>United States</td>\n",
       "      <td>December 2, 2016</td>\n",
       "      <td>2016</td>\n",
       "      <td>PG-13</td>\n",
       "      <td>88 min</td>\n",
       "      <td>Comedies, Horror Movies, Independent Movies</td>\n",
       "      <td>With an all-important high school party at sta...</td>\n",
       "    </tr>\n",
       "    <tr>\n",
       "      <th>8786</th>\n",
       "      <td>s8787</td>\n",
       "      <td>Movie</td>\n",
       "      <td>You Can Tutu</td>\n",
       "      <td>James Brown</td>\n",
       "      <td>Lily O'Regan, Jeannettsy Enriquez Borges, Joel...</td>\n",
       "      <td>United Kingdom</td>\n",
       "      <td>December 31, 2017</td>\n",
       "      <td>2017</td>\n",
       "      <td>TV-G</td>\n",
       "      <td>87 min</td>\n",
       "      <td>Children &amp; Family Movies</td>\n",
       "      <td>A gifted young ballet dancer struggles to find...</td>\n",
       "    </tr>\n",
       "    <tr>\n",
       "      <th>8787</th>\n",
       "      <td>s8788</td>\n",
       "      <td>Movie</td>\n",
       "      <td>You Can’t Fight Christmas</td>\n",
       "      <td>Kenny Young</td>\n",
       "      <td>Brely Evans, Andra Fuller, Persia White, Porsc...</td>\n",
       "      <td>United States</td>\n",
       "      <td>December 19, 2017</td>\n",
       "      <td>2017</td>\n",
       "      <td>TV-PG</td>\n",
       "      <td>85 min</td>\n",
       "      <td>Comedies, Romantic Movies</td>\n",
       "      <td>After stepping in to revitalize his family's h...</td>\n",
       "    </tr>\n",
       "    <tr>\n",
       "      <th>8794</th>\n",
       "      <td>s8795</td>\n",
       "      <td>Movie</td>\n",
       "      <td>اشتباك</td>\n",
       "      <td>Mohamed Diab</td>\n",
       "      <td>Nelly Karim, Hany Adel, Tarek Abdel Aziz, Ahme...</td>\n",
       "      <td>Egypt, France</td>\n",
       "      <td>October 11, 2018</td>\n",
       "      <td>2016</td>\n",
       "      <td>TV-14</td>\n",
       "      <td>98 min</td>\n",
       "      <td>Dramas, Independent Movies, International Movies</td>\n",
       "      <td>Amid the tumult following Egyptian President M...</td>\n",
       "    </tr>\n",
       "  </tbody>\n",
       "</table>\n",
       "<p>3342 rows × 12 columns</p>\n",
       "</div>"
      ],
      "text/plain": [
       "     show_id   type                                              title  \\\n",
       "0         s1  Movie                               Dick Johnson Is Dead   \n",
       "16       s17  Movie  Europe's Most Dangerous Man: Otto Skorzeny in ...   \n",
       "38       s39  Movie                                Birth of the Dragon   \n",
       "73       s74  Movie                                       King of Boys   \n",
       "78       s79  Movie                                     Tughlaq Durbar   \n",
       "...      ...    ...                                                ...   \n",
       "8781   s8782  Movie                            Yo-Kai Watch: The Movie   \n",
       "8782   s8783  Movie                                        Yoga Hosers   \n",
       "8786   s8787  Movie                                       You Can Tutu   \n",
       "8787   s8788  Movie                          You Can’t Fight Christmas   \n",
       "8794   s8795  Movie                                             اشتباك   \n",
       "\n",
       "                                           director  \\\n",
       "0                                   Kirsten Johnson   \n",
       "16    Pedro de Echave García, Pablo Azorín Williams   \n",
       "38                                     George Nolfi   \n",
       "73                                     Kemi Adetiba   \n",
       "78                         Delhiprasad Deenadayalan   \n",
       "...                                             ...   \n",
       "8781                                    Mark Risley   \n",
       "8782                                    Kevin Smith   \n",
       "8786                                    James Brown   \n",
       "8787                                    Kenny Young   \n",
       "8794                                   Mohamed Diab   \n",
       "\n",
       "                                                   cast  \\\n",
       "0                                                   NaN   \n",
       "16                                                  NaN   \n",
       "38    Billy Magnussen, Ron Yuan, Qu Jingjing, Terry ...   \n",
       "73    Sola Sobowale, Adesua Etomi, Remilekun \"Remini...   \n",
       "78           Vijay Sethupathi, Parthiban, Raashi Khanna   \n",
       "...                                                 ...   \n",
       "8781  Johnny Yong Bosch, Joey D'Auria, Alicyn Packar...   \n",
       "8782  Harley Quinn Smith, Lily-Rose Depp, Johnny Dep...   \n",
       "8786  Lily O'Regan, Jeannettsy Enriquez Borges, Joel...   \n",
       "8787  Brely Evans, Andra Fuller, Persia White, Porsc...   \n",
       "8794  Nelly Karim, Hany Adel, Tarek Abdel Aziz, Ahme...   \n",
       "\n",
       "                           country          date_added  release_year rating  \\\n",
       "0                    United States  September 25, 2021          2020  PG-13   \n",
       "16                             NaN  September 22, 2021          2020  TV-MA   \n",
       "38    China, Canada, United States  September 16, 2021          2017  PG-13   \n",
       "73                         Nigeria  September 14, 2021          2018  TV-MA   \n",
       "78                             NaN  September 11, 2021          2020  TV-14   \n",
       "...                            ...                 ...           ...    ...   \n",
       "8781          Japan, United States    December 1, 2016          2016  TV-Y7   \n",
       "8782                 United States    December 2, 2016          2016  PG-13   \n",
       "8786                United Kingdom   December 31, 2017          2017   TV-G   \n",
       "8787                 United States   December 19, 2017          2017  TV-PG   \n",
       "8794                 Egypt, France    October 11, 2018          2016  TV-14   \n",
       "\n",
       "     duration                                         listed_in  \\\n",
       "0      90 min                                     Documentaries   \n",
       "16     67 min               Documentaries, International Movies   \n",
       "38     96 min                        Action & Adventure, Dramas   \n",
       "73    182 min                      Dramas, International Movies   \n",
       "78    145 min            Comedies, Dramas, International Movies   \n",
       "...       ...                                               ...   \n",
       "8781   96 min          Anime Features, Children & Family Movies   \n",
       "8782   88 min       Comedies, Horror Movies, Independent Movies   \n",
       "8786   87 min                          Children & Family Movies   \n",
       "8787   85 min                         Comedies, Romantic Movies   \n",
       "8794   98 min  Dramas, Independent Movies, International Movies   \n",
       "\n",
       "                                            description  \n",
       "0     As her father nears the end of his life, filmm...  \n",
       "16    Declassified documents reveal the post-WWII li...  \n",
       "38    A young Bruce Lee angers kung fu traditionalis...  \n",
       "73    When a powerful businesswoman’s political ambi...  \n",
       "78    A budding politician has devious plans to rise...  \n",
       "...                                                 ...  \n",
       "8781  Nate's special Yo-Kai Watch is missing. He tra...  \n",
       "8782  With an all-important high school party at sta...  \n",
       "8786  A gifted young ballet dancer struggles to find...  \n",
       "8787  After stepping in to revitalize his family's h...  \n",
       "8794  Amid the tumult following Egyptian President M...  \n",
       "\n",
       "[3342 rows x 12 columns]"
      ]
     },
     "execution_count": 16,
     "metadata": {},
     "output_type": "execute_result"
    }
   ],
   "source": [
    "movies"
   ]
  },
  {
   "cell_type": "code",
   "execution_count": null,
   "id": "6b92296d",
   "metadata": {},
   "outputs": [],
   "source": []
  },
  {
   "cell_type": "code",
   "execution_count": null,
   "id": "cf89432b",
   "metadata": {},
   "outputs": [],
   "source": []
  },
  {
   "cell_type": "code",
   "execution_count": null,
   "id": "b2649685",
   "metadata": {},
   "outputs": [],
   "source": []
  }
 ],
 "metadata": {
  "kernelspec": {
   "display_name": "Python 3 (ipykernel)",
   "language": "python",
   "name": "python3"
  },
  "language_info": {
   "codemirror_mode": {
    "name": "ipython",
    "version": 3
   },
   "file_extension": ".py",
   "mimetype": "text/x-python",
   "name": "python",
   "nbconvert_exporter": "python",
   "pygments_lexer": "ipython3",
   "version": "3.9.13"
  }
 },
 "nbformat": 4,
 "nbformat_minor": 5
}
